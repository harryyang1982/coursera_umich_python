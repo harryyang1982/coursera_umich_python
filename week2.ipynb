{
 "cells": [
  {
   "cell_type": "code",
   "execution_count": 1,
   "metadata": {},
   "outputs": [],
   "source": [
    "import numpy as np"
   ]
  },
  {
   "cell_type": "code",
   "execution_count": 2,
   "metadata": {},
   "outputs": [
    {
     "name": "stdout",
     "output_type": "stream",
     "text": [
      "<class 'numpy.ndarray'>\n"
     ]
    }
   ],
   "source": [
    "a = np.array([1, 2, 3])\n",
    "print(type(a))"
   ]
  },
  {
   "cell_type": "code",
   "execution_count": 3,
   "metadata": {},
   "outputs": [
    {
     "name": "stdout",
     "output_type": "stream",
     "text": [
      "(3,)\n"
     ]
    }
   ],
   "source": [
    "print(np.shape(a))"
   ]
  },
  {
   "cell_type": "code",
   "execution_count": 5,
   "metadata": {},
   "outputs": [],
   "source": [
    "b = np.array([[1, 2], [3, 4]])"
   ]
  },
  {
   "cell_type": "code",
   "execution_count": 6,
   "metadata": {},
   "outputs": [
    {
     "data": {
      "text/plain": [
       "array([[1, 2],\n",
       "       [3, 4]])"
      ]
     },
     "execution_count": 6,
     "metadata": {},
     "output_type": "execute_result"
    }
   ],
   "source": [
    "b"
   ]
  },
  {
   "cell_type": "code",
   "execution_count": 7,
   "metadata": {},
   "outputs": [
    {
     "data": {
      "text/plain": [
       "(2, 2)"
      ]
     },
     "execution_count": 7,
     "metadata": {},
     "output_type": "execute_result"
    }
   ],
   "source": [
    "np.shape(b)"
   ]
  },
  {
   "cell_type": "code",
   "execution_count": 8,
   "metadata": {},
   "outputs": [
    {
     "data": {
      "text/plain": [
       "(2, 2)"
      ]
     },
     "execution_count": 8,
     "metadata": {},
     "output_type": "execute_result"
    }
   ],
   "source": [
    "b.shape"
   ]
  },
  {
   "cell_type": "code",
   "execution_count": 9,
   "metadata": {},
   "outputs": [
    {
     "data": {
      "text/plain": [
       "3"
      ]
     },
     "execution_count": 9,
     "metadata": {},
     "output_type": "execute_result"
    }
   ],
   "source": [
    "b[1, 0]"
   ]
  },
  {
   "cell_type": "code",
   "execution_count": 10,
   "metadata": {},
   "outputs": [],
   "source": [
    "c = np.zeros((3, 2))"
   ]
  },
  {
   "cell_type": "code",
   "execution_count": 11,
   "metadata": {},
   "outputs": [
    {
     "data": {
      "text/plain": [
       "array([[0., 0.],\n",
       "       [0., 0.],\n",
       "       [0., 0.]])"
      ]
     },
     "execution_count": 11,
     "metadata": {},
     "output_type": "execute_result"
    }
   ],
   "source": [
    "c"
   ]
  },
  {
   "cell_type": "code",
   "execution_count": 12,
   "metadata": {},
   "outputs": [],
   "source": [
    "d = np.ones((3, 2))"
   ]
  },
  {
   "cell_type": "code",
   "execution_count": 13,
   "metadata": {},
   "outputs": [
    {
     "name": "stdout",
     "output_type": "stream",
     "text": [
      "[[1. 1.]\n",
      " [1. 1.]\n",
      " [1. 1.]]\n"
     ]
    }
   ],
   "source": [
    "print(d)"
   ]
  },
  {
   "cell_type": "code",
   "execution_count": 14,
   "metadata": {},
   "outputs": [],
   "source": [
    "e = np.full((3, 3), 9)"
   ]
  },
  {
   "cell_type": "code",
   "execution_count": 15,
   "metadata": {},
   "outputs": [
    {
     "name": "stdout",
     "output_type": "stream",
     "text": [
      "[[9 9 9]\n",
      " [9 9 9]\n",
      " [9 9 9]]\n"
     ]
    }
   ],
   "source": [
    "print(e)"
   ]
  },
  {
   "cell_type": "code",
   "execution_count": 16,
   "metadata": {},
   "outputs": [
    {
     "data": {
      "text/plain": [
       "array([[0.18693683, 0.22341535, 0.10362094],\n",
       "       [0.701913  , 0.60262882, 0.85270858],\n",
       "       [0.09909558, 0.54051958, 0.03992658]])"
      ]
     },
     "execution_count": 16,
     "metadata": {},
     "output_type": "execute_result"
    }
   ],
   "source": [
    "g = np.random.random((3, 3))\n",
    "\n",
    "g"
   ]
  },
  {
   "cell_type": "code",
   "execution_count": 20,
   "metadata": {},
   "outputs": [],
   "source": [
    "h = np.array([[1,2,3,4], [5,6,7,8], [9, 10, 11, 12]])"
   ]
  },
  {
   "cell_type": "code",
   "execution_count": 21,
   "metadata": {},
   "outputs": [
    {
     "name": "stdout",
     "output_type": "stream",
     "text": [
      "[[ 1  2  3  4]\n",
      " [ 5  6  7  8]\n",
      " [ 9 10 11 12]]\n"
     ]
    }
   ],
   "source": [
    "print(h)"
   ]
  },
  {
   "cell_type": "code",
   "execution_count": 22,
   "metadata": {},
   "outputs": [
    {
     "name": "stdout",
     "output_type": "stream",
     "text": [
      "[[2 3]\n",
      " [6 7]]\n"
     ]
    }
   ],
   "source": [
    "i = h[:2, 1:3]\n",
    "print(i)"
   ]
  },
  {
   "cell_type": "code",
   "execution_count": 23,
   "metadata": {},
   "outputs": [
    {
     "name": "stdout",
     "output_type": "stream",
     "text": [
      "[[500   3]\n",
      " [  6   7]]\n"
     ]
    }
   ],
   "source": [
    "i[0, 0] = 500\n",
    "print(i)"
   ]
  },
  {
   "cell_type": "code",
   "execution_count": 24,
   "metadata": {},
   "outputs": [
    {
     "name": "stdout",
     "output_type": "stream",
     "text": [
      "[[  1 500   3   4]\n",
      " [  5   6   7   8]\n",
      " [  9  10  11  12]]\n"
     ]
    }
   ],
   "source": [
    "print(h)"
   ]
  },
  {
   "cell_type": "code",
   "execution_count": 28,
   "metadata": {},
   "outputs": [
    {
     "name": "stdout",
     "output_type": "stream",
     "text": [
      "int64\n"
     ]
    }
   ],
   "source": [
    "j = np.array([1, 2])\n",
    "print(j.dtype)"
   ]
  },
  {
   "cell_type": "code",
   "execution_count": 29,
   "metadata": {},
   "outputs": [
    {
     "name": "stdout",
     "output_type": "stream",
     "text": [
      "float64\n"
     ]
    }
   ],
   "source": [
    "k = np.array([1.0, 2.0])\n",
    "print(k.dtype)"
   ]
  },
  {
   "cell_type": "code",
   "execution_count": 30,
   "metadata": {},
   "outputs": [
    {
     "name": "stdout",
     "output_type": "stream",
     "text": [
      "[1 2]\n"
     ]
    }
   ],
   "source": [
    "l = np.array([1.0, 2.0], dtype=np.int64)\n",
    "print(l)"
   ]
  },
  {
   "cell_type": "code",
   "execution_count": 32,
   "metadata": {},
   "outputs": [],
   "source": [
    "x = np.array([[1, 2], [3, 4]], dtype=np.float64)\n",
    "y = np.array([[5, 6], [7, 8]], dtype=np.float64)"
   ]
  },
  {
   "cell_type": "code",
   "execution_count": 34,
   "metadata": {},
   "outputs": [
    {
     "name": "stdout",
     "output_type": "stream",
     "text": [
      "[[ 6.  8.]\n",
      " [10. 12.]]\n",
      "[[-4. -4.]\n",
      " [-4. -4.]]\n",
      "[[ 5. 12.]\n",
      " [21. 32.]]\n",
      "[[0.2        0.33333333]\n",
      " [0.42857143 0.5       ]]\n",
      "[[1.0000e+00 6.4000e+01]\n",
      " [2.1870e+03 6.5536e+04]]\n",
      "[[1.         1.41421356]\n",
      " [1.73205081 2.        ]]\n"
     ]
    }
   ],
   "source": [
    "print(x + y)\n",
    "print(x - y)\n",
    "print(x * y)\n",
    "print(x / y)\n",
    "print(x ** y)\n",
    "print(np.sqrt(x))"
   ]
  },
  {
   "cell_type": "code",
   "execution_count": 35,
   "metadata": {},
   "outputs": [
    {
     "data": {
      "text/plain": [
       "10.0"
      ]
     },
     "execution_count": 35,
     "metadata": {},
     "output_type": "execute_result"
    }
   ],
   "source": [
    "np.sum(x)"
   ]
  },
  {
   "cell_type": "code",
   "execution_count": 36,
   "metadata": {},
   "outputs": [
    {
     "data": {
      "text/plain": [
       "array([4., 6.])"
      ]
     },
     "execution_count": 36,
     "metadata": {},
     "output_type": "execute_result"
    }
   ],
   "source": [
    "np.sum(x, axis = 0)"
   ]
  },
  {
   "cell_type": "code",
   "execution_count": 37,
   "metadata": {},
   "outputs": [
    {
     "data": {
      "text/plain": [
       "array([3., 7.])"
      ]
     },
     "execution_count": 37,
     "metadata": {},
     "output_type": "execute_result"
    }
   ],
   "source": [
    "np.sum(x, axis = 1)"
   ]
  },
  {
   "cell_type": "code",
   "execution_count": 38,
   "metadata": {},
   "outputs": [
    {
     "data": {
      "text/plain": [
       "array([[1., 2.],\n",
       "       [3., 4.]])"
      ]
     },
     "execution_count": 38,
     "metadata": {},
     "output_type": "execute_result"
    }
   ],
   "source": [
    "x"
   ]
  },
  {
   "cell_type": "markdown",
   "metadata": {},
   "source": [
    "### Scipy"
   ]
  },
  {
   "cell_type": "code",
   "execution_count": 39,
   "metadata": {},
   "outputs": [],
   "source": [
    "from scipy import stats"
   ]
  },
  {
   "cell_type": "code",
   "execution_count": 40,
   "metadata": {},
   "outputs": [],
   "source": [
    "from pylab import *"
   ]
  },
  {
   "cell_type": "code",
   "execution_count": 41,
   "metadata": {},
   "outputs": [
    {
     "data": {
      "text/plain": [
       "array([-1.49744605,  0.22100756,  0.81927922, -1.18210923, -0.66259363,\n",
       "       -0.91958895, -0.51588878,  0.29256295,  1.42218281,  0.6019515 ])"
      ]
     },
     "execution_count": 41,
     "metadata": {},
     "output_type": "execute_result"
    }
   ],
   "source": [
    "stats.norm.rvs(size = 10)"
   ]
  },
  {
   "cell_type": "code",
   "execution_count": 42,
   "metadata": {},
   "outputs": [
    {
     "data": {
      "text/plain": [
       "array([-2.82007321,  0.55199278,  0.71627149, -1.39920818, -1.48517779,\n",
       "       -0.1771019 , -1.67140204,  1.27981484,  1.52569639,  0.5818132 ,\n",
       "        1.59957008,  1.99344849, -0.85395096,  0.69901956,  1.04277137,\n",
       "        1.34449176, -1.3030454 ,  1.75625852, -0.6693871 ,  1.55585438,\n",
       "        0.37624429, -0.852948  ,  0.97170548, -1.11898745,  2.11592972,\n",
       "        0.51999676,  1.2987244 ,  1.00436707, -1.61841665, -0.2510813 ,\n",
       "        0.08080173, -0.59252654,  2.93243533,  0.05754996, -0.53751537,\n",
       "        0.20249967, -0.30290529,  0.56220803,  0.35685001,  1.13275941,\n",
       "        0.9646163 ,  1.44643224, -0.4228388 ,  0.48924002, -0.17385231,\n",
       "       -0.56282539,  0.5451958 ,  1.43030854,  0.72246011,  0.25200191,\n",
       "        1.00675453, -0.45433183,  0.90828725,  1.35191528,  0.20536541,\n",
       "       -0.69252331, -0.39459597, -0.00888425, -0.27503066, -2.44118563,\n",
       "        0.58619251,  0.72284609,  0.35891609, -0.07214773, -2.10233394,\n",
       "        1.14834598,  0.55964883, -0.18804201,  0.43697072, -0.0597839 ,\n",
       "        0.65351284, -0.39742269, -1.56348521,  0.25591061,  0.59967125,\n",
       "        0.83411696, -0.93876215, -1.68120434, -0.19254426, -0.18135824,\n",
       "        0.8073607 , -0.0230974 , -1.48790255, -0.90730694,  0.46451765,\n",
       "        0.41378359, -0.68633324, -0.37810799,  0.80836689,  0.10792002,\n",
       "        0.4148955 ,  1.06708553, -0.34645824, -0.63726316, -0.17261852,\n",
       "        1.25670693,  1.74716835, -0.61934634,  0.52342669, -0.81816055,\n",
       "        0.12822991, -1.10548357,  0.24142866,  1.38185377, -0.79283406,\n",
       "        0.71169561, -0.44983835, -1.12467891, -2.21311565, -2.09476498,\n",
       "       -0.21555809,  0.95303793, -1.44126183, -0.63471367, -0.67469157,\n",
       "       -0.16214694,  0.41762103, -1.37666784, -1.28029356, -0.31160584,\n",
       "        0.34386152, -0.10213018, -0.3937556 , -0.24296038, -0.59565767,\n",
       "        0.63271574,  1.55439661,  1.38403466, -1.11377409, -1.34160193,\n",
       "       -0.56652827, -0.50140879, -1.21106846,  0.24023636,  0.40462455,\n",
       "       -0.20033439,  1.15579229, -2.01656233,  0.22091581,  0.88693475,\n",
       "        0.40699756, -0.05351648,  0.10427959, -0.81710956,  1.53361842,\n",
       "       -1.21291598, -1.01792596, -0.52521205,  0.49471386, -1.8012669 ,\n",
       "        0.50995056, -0.33706942,  0.68843006,  0.25413228,  0.16891117,\n",
       "        1.2883527 ,  1.22708528, -2.41294915, -0.64365144,  0.07336537,\n",
       "        0.00690201,  0.64297875,  0.34279296,  0.80510362, -0.46090107,\n",
       "       -0.81962449, -1.19902014, -0.17243958,  1.55149275, -0.14912828,\n",
       "       -0.47363317,  0.82118639, -0.00750322,  0.34955024,  0.36869008,\n",
       "        0.71710629, -0.37953807,  0.11058457, -1.26774701,  1.24687743,\n",
       "        1.0790097 ,  0.35940787, -0.73710984,  0.13662634,  0.59799083,\n",
       "        0.02853496, -0.82962838,  0.94495323,  0.57645637, -0.52412523,\n",
       "        1.19375114, -0.01126812,  0.40442164, -1.40282033, -0.06149058,\n",
       "        0.96775424, -0.27805486, -0.68724757, -0.59647075,  0.26008754,\n",
       "        0.08361539, -2.02076328, -0.03032063, -0.07069014,  1.47158989,\n",
       "        0.36993171,  0.68416358, -0.79895573,  0.18893614,  1.31726924,\n",
       "       -0.58590122,  0.64942231,  2.34522744, -0.77638201, -1.54943025,\n",
       "       -1.4470729 ,  2.05977269,  0.2856752 , -0.90740182,  0.69354597,\n",
       "        1.09998642,  0.39325267,  0.18846706,  0.6961146 , -0.4625161 ,\n",
       "       -1.76438493, -0.84637019,  0.25801573,  1.25709365,  0.87491138,\n",
       "       -1.44712785,  0.37699583,  0.18418146,  0.36104202,  0.27010058,\n",
       "       -0.4385247 , -0.10067343, -0.57741624,  0.3645112 ,  0.35040005,\n",
       "        1.14131785,  2.49250786,  0.97113653,  1.86731992, -0.87227413,\n",
       "        0.1647953 ,  0.59008411, -0.87512534, -0.67629887,  2.33629626,\n",
       "       -0.62319437, -1.59452363,  2.11673271, -0.56050478,  2.1961883 ,\n",
       "        0.21294005,  0.20976254, -0.93724422,  1.98057261, -0.61408983,\n",
       "       -1.72315381, -0.07756353, -0.72639859,  0.35176371, -0.41074571,\n",
       "       -0.43050856,  0.95781545, -1.39185281,  0.33861329, -2.0249364 ,\n",
       "       -1.5763148 , -0.59407677,  0.60849628,  1.55353083,  1.14690541,\n",
       "       -0.2296692 ,  0.76403609,  1.13365036,  0.73804725,  2.38248795,\n",
       "       -0.06067262, -2.55827342, -2.15686814, -0.10736009,  0.40079896,\n",
       "        2.04717458, -1.54258902,  0.29363223,  0.78172068,  1.73685396,\n",
       "       -1.18237337, -0.16002513,  1.68419229, -0.40347471, -0.86924351,\n",
       "        0.90232207,  1.51694478, -2.10528012, -0.29561797, -1.23748271,\n",
       "        0.08943994, -1.48548117, -1.070591  ,  0.42566773,  1.0519069 ,\n",
       "       -1.46674761, -0.76598713, -0.70494894,  0.32140599,  1.0320748 ,\n",
       "       -0.20192974,  0.79130153,  0.70748443, -0.09299186, -1.30488857,\n",
       "       -0.34740481,  1.10290076,  1.40263826,  0.63252357,  0.54101433,\n",
       "       -1.24179855, -0.40616776, -0.05496488, -0.87959632, -0.3097072 ,\n",
       "        0.4573714 , -0.47587097,  0.77119109, -0.98239666, -2.12865635,\n",
       "        1.32411243, -1.54670958, -1.51261766, -1.18584872, -0.476865  ,\n",
       "        1.01663873, -0.72987476,  1.87312018,  1.13332697, -0.82403983,\n",
       "       -0.66063498,  0.20632754, -1.41372477,  1.98058748,  0.14402061,\n",
       "       -0.87430719,  0.21935726,  0.82750622, -0.92296435, -0.7048573 ,\n",
       "        1.09319012, -0.16367734,  1.27270726,  0.57213052, -2.17518902,\n",
       "       -1.01808052,  1.07738309, -0.24270015,  0.27006726, -1.3608852 ,\n",
       "        1.53516653, -0.59029004, -0.70449284,  1.0737739 ,  1.35341076,\n",
       "       -0.68785604, -1.21257599, -1.83802417,  0.12153414, -0.84863157,\n",
       "       -0.18639149, -1.61497498,  0.31758976,  0.0464173 ,  0.55465164,\n",
       "       -2.15256987, -0.688788  , -0.93153953,  0.66576453,  1.5883678 ,\n",
       "        0.90156441,  0.60292151, -1.74761272,  0.63843259,  0.89429628,\n",
       "       -0.97793645,  2.42273317,  1.67069373, -0.08832097,  0.52593288,\n",
       "       -0.142402  , -1.66303131,  0.02592077, -1.37000707,  0.38614602,\n",
       "        1.77492417,  1.15030344, -1.21456071, -1.16537356,  0.28417803,\n",
       "       -1.65500386,  1.36284366,  0.41279165, -0.84212685, -0.40014486,\n",
       "       -0.5170893 , -0.12836267, -1.3177511 , -0.29993974, -1.14176068,\n",
       "       -0.04956637,  0.41789876,  0.93094353,  1.10281712, -0.64591437,\n",
       "       -0.54567688,  1.49970112,  0.37159832, -0.00726127,  1.65371799,\n",
       "        1.93347351, -0.32053887,  0.8041735 , -1.26820571,  1.08233159,\n",
       "        0.73167382,  0.06856467,  0.92326237, -0.14274097, -0.44996827,\n",
       "       -0.08910245,  0.50100818, -1.25603291,  0.54198927,  0.14922218,\n",
       "       -0.38765826, -0.86631028, -1.00094389, -1.0648086 , -0.24931861,\n",
       "        1.29265908,  1.66336102,  0.13657994, -1.94829259, -0.04366695,\n",
       "        0.03603674,  0.11155944,  0.07927331,  0.86657083,  0.93887591,\n",
       "        0.39946114, -0.25186928,  0.33499913,  1.69976444, -0.4520034 ,\n",
       "       -0.88259555, -0.46270731, -1.17742798, -0.46362774,  1.84350977,\n",
       "       -0.42754783,  0.88558042,  0.9845681 , -0.7225927 ,  0.23494534,\n",
       "       -1.78222988,  0.60295719,  1.58931375, -0.92908772, -0.16222645,\n",
       "        0.68079567,  0.36068509, -1.53751197,  1.09490289,  0.03620964,\n",
       "       -1.45019506, -0.01765246, -0.31808062, -0.75998698, -0.0468683 ,\n",
       "        0.47882292,  1.11157922,  0.26442081,  2.04163477,  0.80416103,\n",
       "        2.40474104,  0.36842283, -1.03402853,  0.35509073,  0.52578362,\n",
       "       -0.4489374 ,  1.24776041,  1.05894753,  2.49217161, -0.13158306,\n",
       "        0.1938339 , -0.67517141,  2.62974498,  0.57239534,  0.24986074,\n",
       "       -0.35078652, -0.5059469 ,  0.93939776,  0.13747851,  1.81281685,\n",
       "        0.47734762, -0.03170513,  1.05717817, -1.13807599, -0.77069686,\n",
       "       -0.34824586, -0.51410162,  1.74048758, -0.42984762,  0.31222384,\n",
       "        0.41007049, -0.29038237, -2.58124894,  1.0317189 , -0.15308332,\n",
       "       -1.20008403,  0.85607625, -0.13950311,  0.24832701,  1.5057696 ,\n",
       "        0.81238678,  0.97410769, -0.74768232, -0.23578099,  0.29753767,\n",
       "        1.02748976,  1.43371398, -0.74995957,  0.8088067 ,  1.19993897,\n",
       "       -0.27372599, -0.20969358,  0.93226655,  0.3956985 , -0.27703258,\n",
       "        0.7576962 , -0.45471094, -0.21940674,  0.31677994,  0.80149228,\n",
       "       -0.54958329, -1.09191844,  0.31928868, -0.61760879, -2.14636495,\n",
       "        0.05856514, -0.23716018,  1.10300433,  0.02677363, -0.55074446,\n",
       "        0.89620291,  0.54855514, -0.00785282,  1.3363856 ,  0.45231529,\n",
       "        0.52514591, -0.03857275, -0.4632124 , -1.18741006, -0.79791493,\n",
       "        0.3747106 ,  0.59983374,  0.41712489, -1.16852865,  1.16409106,\n",
       "       -1.03203038,  0.34633655, -0.54256583,  0.01910219, -0.13959992,\n",
       "        0.98509782,  0.65536777, -1.2648696 ,  1.96853686, -0.65811454,\n",
       "        1.42332963,  1.74673095,  0.28317096,  2.21524578, -0.63013898,\n",
       "        0.99941966,  0.64715901,  0.60747038,  0.72563137,  0.57453814,\n",
       "       -0.17509653, -0.75395586,  0.22844454,  0.11355373, -2.27847655,\n",
       "       -0.28632454,  0.13945567,  2.01696513,  0.44111265, -0.12533649,\n",
       "        0.18268744,  0.01110261,  0.49349901, -0.14261205,  1.20494798,\n",
       "        0.3038391 , -0.36219138,  0.58061668, -2.71036593, -0.47410126,\n",
       "        0.12245259, -1.01788749,  1.60628234, -0.561628  , -0.08252293,\n",
       "       -0.49557665,  1.83873351,  0.12326933,  0.27267682, -0.0247421 ,\n",
       "        0.57317867, -1.25786764,  0.78437596, -1.87291562, -0.11073345,\n",
       "       -0.42960978, -1.83422283,  0.02223138,  0.69331925, -0.03005938,\n",
       "        0.3675635 ,  1.11445852, -1.21959068,  1.05010423,  0.34941561,\n",
       "        0.46465958, -2.69230548,  1.48702027,  0.61242949, -0.63839429,\n",
       "        0.6132637 , -0.5723731 ,  0.21067938, -0.02083059, -0.43402849,\n",
       "        0.27854072,  0.10956734,  0.62793469,  1.76273023, -2.89949281,\n",
       "       -0.02699576,  0.62201624,  0.47582562,  0.63799439,  0.96490705,\n",
       "       -0.25613335,  0.02134469, -0.85251405, -0.97584655, -0.20594609,\n",
       "        1.74086996,  0.41922343,  0.46683788,  0.56763622,  0.35254658,\n",
       "       -0.67389652, -0.40122012,  1.17979416, -0.62224912, -0.53131079,\n",
       "        0.12639742, -0.33908278, -0.45693744,  0.18112605,  1.09676044,\n",
       "       -0.31559598,  0.70366208,  0.36544824, -0.9816839 , -1.14092087,\n",
       "        0.12339745,  1.19081661, -0.03681676,  0.26848574, -1.68091256,\n",
       "       -0.72311221, -0.27083517, -0.73325624, -0.27418745,  0.06396449,\n",
       "       -0.11917085,  0.17397303, -2.0254483 , -0.58007673, -0.30423602,\n",
       "       -1.82817261,  1.34101342, -0.39368142,  0.29981757, -0.93217983,\n",
       "        0.83172396,  1.24436652,  0.87148675,  1.87949436, -1.79969631,\n",
       "       -0.31227186,  1.02043813, -0.5526131 , -0.51026532, -0.33176863,\n",
       "       -0.01892711, -1.3027368 ,  0.08620111, -0.33476483,  0.18575343,\n",
       "       -1.87320793,  0.45113068,  1.95596846,  0.59975327,  0.44446246,\n",
       "        2.41874862, -1.04233423,  2.83467712,  0.19465182, -0.18091509,\n",
       "       -0.19960354, -0.7812193 , -0.21219208, -0.89041389, -0.88481417,\n",
       "       -1.08734444, -0.10728249,  1.03045796,  0.04267968,  0.72455493,\n",
       "        0.34945407, -1.3043681 ,  0.14593125, -1.61652982, -0.45938896,\n",
       "       -0.45422753, -0.84561684, -0.90838965,  0.72799263,  0.5207077 ,\n",
       "        1.68911876, -0.06348161,  0.84762559,  0.32995068, -0.01204217,\n",
       "       -0.54824493, -0.09432716, -0.96235291,  0.4252878 ,  0.80965942,\n",
       "        0.1238139 ,  0.69598584, -0.85140463, -0.58473496, -0.25223737,\n",
       "        0.10712732, -0.68135007,  0.13243598, -0.206163  , -1.97183927,\n",
       "       -0.57449124, -0.16244172,  0.51119701, -0.48015299, -0.59560241,\n",
       "       -0.05721566, -1.71058356, -0.11917883, -0.07322851, -0.21572908,\n",
       "        0.71228203, -0.90349231, -0.09297552,  0.78532067, -0.41206308,\n",
       "       -0.65214056, -0.83049066,  0.40783917,  0.69634889, -0.56410212,\n",
       "        0.38393899,  1.00262112, -0.65151055,  1.2797199 , -0.3197904 ,\n",
       "       -1.32668046,  0.71721997,  0.9221463 ,  0.34353761, -0.0371535 ,\n",
       "        0.55759674,  1.59987471,  0.50957079, -0.49233643,  1.30589554,\n",
       "       -1.19807738, -0.7936906 ,  0.25692459, -0.97147632,  1.90152783,\n",
       "       -0.41572097,  0.96533983, -1.94978967,  0.10032367,  0.19140934,\n",
       "       -0.18591254,  0.21058188,  0.19938768, -0.56890417,  1.71659653,\n",
       "       -0.13140919, -0.87141427, -0.32368702, -0.44208796,  0.78509779,\n",
       "       -0.4860537 , -0.9984044 , -0.71162597,  0.16706974,  0.25687801,\n",
       "        0.2772385 , -0.41929172,  0.7821486 , -1.06355927,  0.78031234,\n",
       "        1.10526421, -1.6154306 ,  0.59326835,  1.44089929, -0.16319496,\n",
       "       -0.21645841, -0.80727602, -0.54468613,  0.2854615 , -0.47576464,\n",
       "        0.64451061, -1.45549648,  0.84114497,  0.50768069, -0.56997012,\n",
       "        0.91528666, -1.50672186, -1.58511933, -0.70886705, -1.98787984,\n",
       "       -1.65401756, -0.78568125,  0.65536985,  1.13283044,  1.94468138,\n",
       "        0.73362315, -0.196285  , -0.43234119,  0.28928624, -1.81626614,\n",
       "       -0.47055027,  1.21717295, -0.8103808 ,  0.45242547, -0.84417212,\n",
       "        0.45887612, -1.83826947, -0.47695981, -1.59645958, -0.07048352,\n",
       "       -0.49627433, -0.75179231,  0.64057455,  1.90841665, -0.46388596,\n",
       "        1.52472047,  0.40582618, -2.93903139, -0.52028012, -1.53281479,\n",
       "       -0.56914304,  0.11231472, -2.0558237 ,  0.11617804, -0.39535061,\n",
       "       -0.56850028, -0.82021035, -0.0677883 ,  0.80562214,  0.16000506,\n",
       "        1.45543595,  2.03899867,  0.74770758, -0.55988034,  0.55988319,\n",
       "       -0.53275124,  0.27634963, -0.6028717 , -0.44070161,  0.25686566,\n",
       "       -0.26746016,  0.48698864,  0.05060867,  0.7316874 ,  0.14712035,\n",
       "        0.01303043,  0.91639771,  0.15718412,  1.47256624,  0.47725765,\n",
       "       -1.68524406, -0.75020908, -0.651151  , -1.08372924,  0.33846433,\n",
       "       -0.12492537, -0.24822767, -0.75982807, -0.55951753,  1.1875471 ,\n",
       "       -0.77241226,  0.4968719 ,  0.54061635, -0.69382242,  0.2343729 ,\n",
       "        0.62251253, -0.17893556,  1.18863913, -0.84478498,  0.61623669,\n",
       "        0.74343414, -0.13612291,  0.63396023,  0.63952662, -1.06685067,\n",
       "        0.50587249, -0.07648119, -1.91366211,  0.50944714, -0.40252427,\n",
       "       -0.584808  ,  0.48115971,  0.23214077,  0.17523584,  0.06283201,\n",
       "        0.23094391, -1.87240641, -0.13150568, -1.24826293, -1.11342876,\n",
       "        0.81746084, -0.74106212, -0.6758731 ,  1.18333373, -0.01987195,\n",
       "       -0.99691211, -0.78351448, -0.43687048,  1.62789745, -1.41538246,\n",
       "       -1.47911447,  1.33361445,  0.44439632,  1.96094546, -1.31764411,\n",
       "       -1.77372206, -2.07965969, -0.04630407, -1.52971224,  0.17088296,\n",
       "        0.80820556,  0.50438062,  1.11206078, -1.68878124,  0.43452536,\n",
       "        2.04974853, -0.03448635, -0.73169997,  0.5064628 ,  0.7782544 ,\n",
       "        0.34092841, -0.34336398,  0.11973629,  0.3243837 , -0.76706549,\n",
       "        0.42717529,  0.44924521,  0.43315775,  1.43583574, -0.89068563,\n",
       "        2.64944668, -0.40771153, -1.4746873 ,  0.03140861, -0.4645967 ,\n",
       "       -1.3228193 ,  1.12858614, -0.36856942, -0.33808801,  1.01831491])"
      ]
     },
     "execution_count": 42,
     "metadata": {},
     "output_type": "execute_result"
    }
   ],
   "source": [
    "stats.norm.rvs(size = 1000)"
   ]
  },
  {
   "cell_type": "code",
   "execution_count": 43,
   "metadata": {},
   "outputs": [
    {
     "data": {
      "image/png": "[encoded data removed]",
      "text/plain": [
       "<Figure size 432x288 with 1 Axes>"
      ]
     },
     "metadata": {
      "needs_background": "light"
     },
     "output_type": "display_data"
    }
   ],
   "source": [
    "dx = .01\n",
    "X = np.arange(-2, 2, dx)\n",
    "Y = exp(-X**2)\n",
    "\n",
    "Y /= (dx*Y).sum()\n",
    "\n",
    "CY = np.cumsum(Y*dx)\n",
    "\n",
    "plot(X, Y)\n",
    "plot(X, CY, 'r--')\n",
    "\n",
    "show()"
   ]
  },
  {
   "cell_type": "code",
   "execution_count": 44,
   "metadata": {},
   "outputs": [
    {
     "name": "stdout",
     "output_type": "stream",
     "text": [
      "[0.0668072  0.30853754 0.5        0.84134475 0.9331928  0.97724987\n",
      " 1.        ]\n"
     ]
    }
   ],
   "source": [
    "print(stats.norm.cdf(np.array([-1.5, -.5, 0, 1, 1.5, 2, 6])))"
   ]
  },
  {
   "cell_type": "code",
   "execution_count": 45,
   "metadata": {},
   "outputs": [],
   "source": [
    "np.random.seed(1234)\n",
    "\n",
    "x = stats.t.rvs(10, size = 1000)"
   ]
  },
  {
   "cell_type": "code",
   "execution_count": 47,
   "metadata": {},
   "outputs": [
    {
     "name": "stdout",
     "output_type": "stream",
     "text": [
      "0.03301501424446721\n"
     ]
    }
   ],
   "source": [
    "print(x.mean())"
   ]
  },
  {
   "cell_type": "code",
   "execution_count": 48,
   "metadata": {},
   "outputs": [
    {
     "name": "stdout",
     "output_type": "stream",
     "text": [
      "5.489762351653657\n"
     ]
    }
   ],
   "source": [
    "print(x.max())"
   ]
  },
  {
   "cell_type": "code",
   "execution_count": 49,
   "metadata": {},
   "outputs": [
    {
     "name": "stdout",
     "output_type": "stream",
     "text": [
      "-3.7081318682862507\n"
     ]
    }
   ],
   "source": [
    "print(x.min())"
   ]
  },
  {
   "cell_type": "code",
   "execution_count": 51,
   "metadata": {},
   "outputs": [
    {
     "data": {
      "text/plain": [
       "DescribeResult(nobs=1000, minmax=(-3.7081318682862507, 5.489762351653657), mean=0.03301501424446721, variance=1.2180596486677358, skewness=0.017360162164788, kurtosis=0.9792361694613958)"
      ]
     },
     "execution_count": 51,
     "metadata": {},
     "output_type": "execute_result"
    }
   ],
   "source": [
    "stats.describe(x)"
   ]
  },
  {
   "cell_type": "code",
   "execution_count": null,
   "metadata": {},
   "outputs": [],
   "source": []
  }
 ],
 "metadata": {
  "kernelspec": {
   "display_name": "Python 3.9.12 ('base')",
   "language": "python",
   "name": "python3"
  },
  "language_info": {
   "codemirror_mode": {
    "name": "ipython",
    "version": 3
   },
   "file_extension": ".py",
   "mimetype": "text/x-python",
   "name": "python",
   "nbconvert_exporter": "python",
   "pygments_lexer": "ipython3",
   "version": "3.9.12"
  },
  "orig_nbformat": 4,
  "vscode": {
   "interpreter": {
    "hash": "5f2dc2c05f9d09bbf8d8b9882d1010be2db21d3925608a6143bf35df14041d06"
   }
  }
 },
 "nbformat": 4,
 "nbformat_minor": 2
}
